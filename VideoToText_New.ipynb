{
 "cells": [
  {
   "cell_type": "markdown",
   "metadata": {},
   "source": [
    "## 0. Install and Import Dependencies"
   ]
  },
  {
   "cell_type": "code",
   "execution_count": 1,
   "metadata": {
    "collapsed": true,
    "jupyter": {
     "outputs_hidden": true
    }
   },
   "outputs": [
    {
     "name": "stdout",
     "output_type": "stream",
     "text": [
      "Requirement already satisfied: ibm_watson in c:\\programdata\\anaconda3\\lib\\site-packages (5.2.3)\n",
      "Requirement already satisfied: requests<3.0,>=2.0 in c:\\programdata\\anaconda3\\lib\\site-packages (from ibm_watson) (2.26.0)\n",
      "Requirement already satisfied: websocket-client==1.1.0 in c:\\programdata\\anaconda3\\lib\\site-packages (from ibm_watson) (1.1.0)\n",
      "Requirement already satisfied: python-dateutil>=2.5.3 in c:\\programdata\\anaconda3\\lib\\site-packages (from ibm_watson) (2.8.0)\n",
      "Requirement already satisfied: ibm-cloud-sdk-core==3.*,>=3.3.6 in c:\\programdata\\anaconda3\\lib\\site-packages (from ibm_watson) (3.11.3)\n",
      "Requirement already satisfied: certifi>=2017.4.17 in c:\\programdata\\anaconda3\\lib\\site-packages (from requests<3.0,>=2.0->ibm_watson) (2019.9.11)\n",
      "Requirement already satisfied: idna<4,>=2.5; python_version >= \"3\" in c:\\programdata\\anaconda3\\lib\\site-packages (from requests<3.0,>=2.0->ibm_watson) (2.8)\n",
      "Requirement already satisfied: charset-normalizer~=2.0.0; python_version >= \"3\" in c:\\programdata\\anaconda3\\lib\\site-packages (from requests<3.0,>=2.0->ibm_watson) (2.0.4)\n",
      "Requirement already satisfied: urllib3<1.27,>=1.21.1 in c:\\programdata\\anaconda3\\lib\\site-packages (from requests<3.0,>=2.0->ibm_watson) (1.24.2)\n",
      "Requirement already satisfied: six>=1.5 in c:\\programdata\\anaconda3\\lib\\site-packages (from python-dateutil>=2.5.3->ibm_watson) (1.12.0)\n",
      "Requirement already satisfied: PyJWT<3.0.0,>=2.0.1 in c:\\programdata\\anaconda3\\lib\\site-packages (from ibm-cloud-sdk-core==3.*,>=3.3.6->ibm_watson) (2.1.0)\n",
      "Requirement already satisfied: python-ffmpeg in c:\\programdata\\anaconda3\\lib\\site-packages (1.0.11)\n",
      "Requirement already satisfied: pyee in c:\\programdata\\anaconda3\\lib\\site-packages (from python-ffmpeg) (8.2.2)\n",
      "Requirement already satisfied: ffmpeg in c:\\programdata\\anaconda3\\lib\\site-packages (1.4)\n",
      "Requirement already satisfied: moviepy in c:\\programdata\\anaconda3\\lib\\site-packages (1.0.3)\n",
      "Requirement already satisfied: imageio<3.0,>=2.5; python_version >= \"3.4\" in c:\\programdata\\anaconda3\\lib\\site-packages (from moviepy) (2.6.0)\n",
      "Requirement already satisfied: decorator<5.0,>=4.0.2 in c:\\programdata\\anaconda3\\lib\\site-packages (from moviepy) (4.4.0)\n",
      "Requirement already satisfied: requests<3.0,>=2.8.1 in c:\\programdata\\anaconda3\\lib\\site-packages (from moviepy) (2.26.0)\n",
      "Requirement already satisfied: proglog<=1.0.0 in c:\\programdata\\anaconda3\\lib\\site-packages (from moviepy) (0.1.9)\n",
      "Requirement already satisfied: numpy; python_version >= \"2.7\" in c:\\programdata\\anaconda3\\lib\\site-packages (from moviepy) (1.17.0)\n",
      "Requirement already satisfied: imageio-ffmpeg>=0.2.0; python_version >= \"3.4\" in c:\\programdata\\anaconda3\\lib\\site-packages (from moviepy) (0.4.5)\n",
      "Requirement already satisfied: tqdm<5.0,>=4.11.2 in c:\\programdata\\anaconda3\\lib\\site-packages (from moviepy) (4.62.2)\n",
      "Requirement already satisfied: pillow in c:\\programdata\\anaconda3\\lib\\site-packages (from imageio<3.0,>=2.5; python_version >= \"3.4\"->moviepy) (6.2.0)\n",
      "Requirement already satisfied: certifi>=2017.4.17 in c:\\programdata\\anaconda3\\lib\\site-packages (from requests<3.0,>=2.8.1->moviepy) (2019.9.11)\n",
      "Requirement already satisfied: urllib3<1.27,>=1.21.1 in c:\\programdata\\anaconda3\\lib\\site-packages (from requests<3.0,>=2.8.1->moviepy) (1.24.2)\n",
      "Requirement already satisfied: charset-normalizer~=2.0.0; python_version >= \"3\" in c:\\programdata\\anaconda3\\lib\\site-packages (from requests<3.0,>=2.8.1->moviepy) (2.0.4)\n",
      "Requirement already satisfied: idna<4,>=2.5; python_version >= \"3\" in c:\\programdata\\anaconda3\\lib\\site-packages (from requests<3.0,>=2.8.1->moviepy) (2.8)\n",
      "Requirement already satisfied: colorama; platform_system == \"Windows\" in c:\\programdata\\anaconda3\\lib\\site-packages (from tqdm<5.0,>=4.11.2->moviepy) (0.4.1)\n"
     ]
    }
   ],
   "source": [
    "# !pip install ibm_watson\n",
    "# !pip install python-ffmpeg\n",
    "# !pip install ffmpeg moviepy"
   ]
  },
  {
   "cell_type": "code",
   "execution_count": 2,
   "metadata": {},
   "outputs": [],
   "source": [
    "import subprocess\n",
    "import moviepy.editor as mp\n",
    "from ibm_watson import SpeechToTextV1\n",
    "from ibm_watson.websocket import RecognizeCallback, AudioSource\n",
    "from ibm_cloud_sdk_core.authenticators import IAMAuthenticator"
   ]
  },
  {
   "cell_type": "markdown",
   "metadata": {},
   "source": [
    "## 1. Extract Audio"
   ]
  },
  {
   "cell_type": "code",
   "execution_count": 3,
   "metadata": {},
   "outputs": [
    {
     "data": {
      "text/plain": [
       "<moviepy.video.io.VideoFileClip.VideoFileClip at 0x174d2c41c88>"
      ]
     },
     "execution_count": 3,
     "metadata": {},
     "output_type": "execute_result"
    }
   ],
   "source": [
    "# Here we are calling the moviepy library to convert the video to mkv\n",
    "my_clip = mp.VideoFileClip(r\"video1.mp4\")\n",
    "my_clip"
   ]
  },
  {
   "cell_type": "code",
   "execution_count": 4,
   "metadata": {},
   "outputs": [
    {
     "name": "stdout",
     "output_type": "stream",
     "text": [
      "MoviePy - Writing audio in my_result.wav\n"
     ]
    },
    {
     "name": "stderr",
     "output_type": "stream",
     "text": [
      "                                                                                                                       "
     ]
    },
    {
     "name": "stdout",
     "output_type": "stream",
     "text": [
      "MoviePy - Done.\n"
     ]
    },
    {
     "name": "stderr",
     "output_type": "stream",
     "text": [
      "\r"
     ]
    }
   ],
   "source": [
    "my_clip.audio.write_audiofile(r\"my_result.wav\")"
   ]
  },
  {
   "cell_type": "markdown",
   "metadata": {},
   "source": [
    "## 2. Setup STT Service"
   ]
  },
  {
   "cell_type": "code",
   "execution_count": 5,
   "metadata": {},
   "outputs": [],
   "source": [
    "# Navigate to https://cloud.ibm.com/catalog?category=ai#servicesv ---->speech to text\n",
    "\n",
    "apikey = ''\n",
    "url = ''"
   ]
  },
  {
   "cell_type": "code",
   "execution_count": 6,
   "metadata": {},
   "outputs": [],
   "source": [
    "# Setup service\n",
    "authenticator = IAMAuthenticator(apikey)\n",
    "stt = SpeechToTextV1(authenticator=authenticator)\n",
    "stt.set_service_url(url)"
   ]
  },
  {
   "cell_type": "code",
   "execution_count": 27,
   "metadata": {},
   "outputs": [],
   "source": [
    "#!pip install ffmpeg"
   ]
  },
  {
   "cell_type": "code",
   "execution_count": 28,
   "metadata": {},
   "outputs": [],
   "source": [
    "#!pip list"
   ]
  },
  {
   "cell_type": "markdown",
   "metadata": {},
   "source": [
    "# 3. Compress and Split Audio"
   ]
  },
  {
   "cell_type": "code",
   "execution_count": 7,
   "metadata": {},
   "outputs": [
    {
     "data": {
      "text/plain": [
       "0"
      ]
     },
     "execution_count": 7,
     "metadata": {},
     "output_type": "execute_result"
    }
   ],
   "source": [
    "import subprocess\n",
    "import os\n",
    "command = 'ffmpeg -i my_result.wav -vn -ar 44100 -ac 2 -b:a 192k my_result.mp3'\n",
    "#subprocess.Popen('echo %s' %command)\n",
    "subprocess.call(command, shell=True)"
   ]
  },
  {
   "cell_type": "code",
   "execution_count": 8,
   "metadata": {},
   "outputs": [
    {
     "data": {
      "text/plain": [
       "0"
      ]
     },
     "execution_count": 8,
     "metadata": {},
     "output_type": "execute_result"
    }
   ],
   "source": [
    "command = 'ffmpeg -i my_result.mp3 -f segment -segment_time 360 -c copy %03d.mp3'\n",
    "subprocess.call(command, shell=True)"
   ]
  },
  {
   "cell_type": "code",
   "execution_count": 10,
   "metadata": {},
   "outputs": [],
   "source": [
    "files = []\n",
    "for filename in os.listdir('.'):\n",
    "    if filename.endswith(\".mp3\") and filename !='my_result.mp3':\n",
    "        files.append(filename)\n",
    "files.sort()"
   ]
  },
  {
   "cell_type": "code",
   "execution_count": 11,
   "metadata": {},
   "outputs": [
    {
     "data": {
      "text/plain": [
       "['000.mp3', '001.mp3', '002.mp3']"
      ]
     },
     "execution_count": 11,
     "metadata": {},
     "output_type": "execute_result"
    }
   ],
   "source": [
    "files\n"
   ]
  },
  {
   "cell_type": "markdown",
   "metadata": {},
   "source": [
    "# 4. Perform Conversion"
   ]
  },
  {
   "cell_type": "code",
   "execution_count": 13,
   "metadata": {},
   "outputs": [],
   "source": [
    "results = []\n",
    "for filename in files:\n",
    "    with open(filename, 'rb') as f:\n",
    "        res = stt.recognize(audio=f, content_type='audio/mp3', model='en-AU_NarrowbandModel', continuous=True, \\\n",
    "                           inactivity_timeout=360).get_result()\n",
    "        results.append(res)"
   ]
  },
  {
   "cell_type": "code",
   "execution_count": 14,
   "metadata": {},
   "outputs": [],
   "source": [
    "text = []\n",
    "for file in results:\n",
    "    for result in file['results']:\n",
    "        text.append(result['alternatives'][0]['transcript'].rstrip() + '.\\n')"
   ]
  },
  {
   "cell_type": "code",
   "execution_count": 15,
   "metadata": {},
   "outputs": [
    {
     "data": {
      "text/plain": [
       "[\"hello everyone I'm delighted to be here to talk to you about the next we'll condition for Microsoft teams that limit collaboration even more seamless whether you're still working from home remotely or your back in office number one how you making it easy for you to bring your team together and reduce the meeting strategic.\\n\",\n",
       " 'second however addressing some of the non pain points in the win meetings or structure today and then lastly probably streamlining your work and saving you time everyday.\\n',\n",
       " \"with that let's jump into it.\\n\",\n",
       " \"but once I'm in a meeting you'll see the new dynamic view it's a more fluid and flexible way to optimise the screen real estate but what's most important so someone sharing content or people who are joining to where DO are the main part of my screen %HESITATION.\\n\",\n",
       " 'the audio only participants on the right hand side so the focus can stay on people which wanting to with it.\\n',\n",
       " \"we've also added visual cues to easily follow along the meeting participants I just see what I'm talking about couple Bucks or pure above my head.\\n\",\n",
       " \"and I see Jim such a sweet hard and it's box is highlighted in yellow.\\n\",\n",
       " 'not be no but I. times we have to bring a large group of people together for interactive meeting think of a company down hall not only will team support up to one thousand meeting part of Spence %HESITATION making the experience more scalable with up to twenty thousand more people who can attend as viewers in addition to the stars and participants.\\n',\n",
       " \"but when someone's presenting content in the meeting you can see the content as well as the missing part as friends in the same bill ask the content getting shared you also want to be able to focus on a particular person it could be an interpreter it could be a decision maker or maybe a conference will get a bunch of people are joining together it's just a great way for us to bring content and people together in the same building a meeting.\\n\",\n",
       " 'as you can see I have nine meeting participants on my screen we call it the gallery built as more people start joining with optimised for the most active meeting part of Spence.\\n',\n",
       " 'however now you also have the option to select a large gallery bill that supports up to forty nine people.\\n',\n",
       " 'so here you can see sixteen people on my screen.\\n',\n",
       " 'but it see what it looks like when we have twenty five people on the screen.\\n',\n",
       " 'and last but not the least forty nine people at the same time on the same screen.\\n',\n",
       " \"it's just another way for us to give you a greater control on your meeting experience.\\n\",\n",
       " \"I'm not sure about you but I'm in so many video meetings these days that it can be overwhelming we believe there is a better vehicle but your meetings to help us stay more connected this month we're excited to announce a new meetings capability caught together mode that brings you and your team members in the same shared what your speeds without any barriers.\\n\",\n",
       " \"just with one click I can convert the meeting setup into auditorium like setting but me and my colleagues can be a more in a much more natural setup think of meetings like a brainstorming session or a life teaching session it's just a more natural than relaxed way to be with your colleagues and transfer.\\n\",\n",
       " 'in addition to the auditorium setting we will be bringing more settings to this experience think of applause from the conference room or a caffeic.\\n',\n",
       " \"let's see what this looks like when we have more people joining in.\\n\",\n",
       " \"you'll see as I'm speaking people are looking at my direction when someone starts speaking everyone's give is directed towards them and by removing the distraction of individual backgrounds are brands can actually more easily focused on the people themselves and we can catch nine problems you'd like had no other reason I browse smiling or a racing at.\\n\",\n",
       " \"for future to understand from people's body language when they want to speak it just makes it seem less more easy had opportune speakers it just leads to the small human connexion between people which is essentially missing from today's meeting experience now this experience also skills up to forty nine people at the same time.\\n\",\n",
       " \"from everyday meeting to a class from your next big event it feels like all of us put together even then the report and I know all of your reporting to have some fun so let's give you to the same high fives.\\n\",\n",
       " \"another new feature that helps me stay connected with my team members is reflect if the messaging extension which team leaders and class instructors can use particular quick post of the team members to see how everyone's doing so here when I go in the menu I can see the reflect tool I can create a question or select from one of the predefined questions I can select the privacy settings but I want the results to be anonymous for public I can also decide if it's a recurring call.\\n\",\n",
       " 'once I submit the port actually goes into a channel and all my team members can vote on it.\\n',\n",
       " \"that's just a quickly for me to connect with my team and check in on them.\\n\",\n",
       " 'now let me pass it on to my colleague John drive was going to talk to you about teams and operations that can help address meetings pain points or duty under.\\n',\n",
       " 'more and more musically spiritually.\\n',\n",
       " 'from you personally I always made it really challenging to approve the reactions of those and I want to call with let me share with you some new and exciting future is coming to teams to help with this meeting pinpoint.\\n',\n",
       " 'with the refinance you true we can ensure that all voices happen who.\\n',\n",
       " \"and if you're running late to a meeting you don't have to worry about efforts did or didn't see your message which happens your message when I pop up rate within the meeting deal for operative specifics.\\n\",\n",
       " 'very exciting we used to love to celebrate and last year there is a team of five reactions if you really love something that someone shared send over a lot of reaction if you want to celebrate.\\n',\n",
       " 'it went as a team now the team confirmed it back with you.\\n',\n",
       " 'this is a really grew up and take wage for encrypts such made into the digital media experience.\\n',\n",
       " \"many of us have been using live captions for follow on with the conversation during the team's meeting but before we had no way of knowing who was saying what this is particularly challenging environments for it's hard to hear.\\n\",\n",
       " \"what you're seeing now as a person online captions is that it will not only capture what is being shared but also who is sharing it.\\n\",\n",
       " \"which is your preventive when someone is presenting you don't actually know who's talking that's reducing especially in those meetings are unfamiliar pieces you're able to stay more connected than average by knowing everyone in there need.\\n\",\n",
       " 'this is available now in English with more languages coming soon.\\n',\n",
       " \"I'm gonna go ahead and walk you guys through a new future also added like transcription you'll see here at a time like transcription that it'll calculate the comments that removed throughout this conversation as well as be providing a really good recap total after the meeting takes place.\\n\",\n",
       " \"you also see up here at the top back teams on a reply on the purchase of insight they're being transcribed once the feature is enabled.\\n\",\n",
       " 'this is a really great way to know what is being said during a cover efficient and he was making this decision.\\n',\n",
       " 'I can also help with those severity moments when you got distracted just as a questions being asked.\\n',\n",
       " 'exactly how you can quickly read up to the captions and be able to catch yourself up and respond really quickly.\\n',\n",
       " 'and after the meeting all of this is available for your.\\n',\n",
       " \"when you open up the meeting chat the transcriptions live break there once you open up the transcription you'll be able to see that decisions that remaining who meet then and the current tax around the entire conversation this is going to be a very powerful tool to know how we can better follow up with meetings afterwards and be more efficient.\\n\",\n",
       " \"I'm a passive I could reduce crime is going to wrap up with how teams can help streamline your work and save you time.\\n\",\n",
       " 'grouped off bank account right.\\n',\n",
       " \"not with Microsoft three sixty five and teams with continuously looking for ways to streamline your work and save your time not my mobile phone is a key part of my everyday routine whether I'm at home taking a break my laptop or just out running an errand business how I keep on top of things but I have to do what time is my digital voice assistant but users and Microsoft graph cause securely pick options like getting in touch with people or finding the right files but I want to go.\\n\",\n",
       " \"I can use microphone in my team's mobile app to interact naturally because kind of but take a look.\\n\",\n",
       " \"what's in my schedule tomorrow morning.\\n\",\n",
       " \"I'm finding one event for tomorrow morning so I see there's a meeting in the morning and I promised my results centre five before this well let me just do it now while I'm on the girl.\\n\",\n",
       " 'send a quarterly review deck tomorrow so.\\n',\n",
       " 'okay which power point should I share the second one.\\n',\n",
       " \"no you'll see I don't have to see the exact name of the presentation or Morrisons full name that's because got harder understands the signals from Microsoft graph so really understands what my recent activities are and who are making contacts you can take numerous actions like this record title like making a call scheduling a meeting or sending a message.\\n\",\n",
       " 'so here I can just send a message to my next meeting participants.\\n',\n",
       " 'send a message to my next meeting.\\n',\n",
       " \"all right what's your message thank you for the gender for tomorrow's meeting.\\n\",\n",
       " \"send it or change it found I'll send that.\\n\",\n",
       " 'but we show you a couple of other features that are already available and teams but help manager work life balance and personable big continuing on the PIM of court time it also sends me the daily briefing email every morning.\\n',\n",
       " 'it captures all the upcoming appointments as well as any commitments that I might have made two colleagues in the previous emails.\\n',\n",
       " \"yeah I just called down to the bottom it proactively asked me if I want to block some time for focusing so here I'll go ahead and blocked three to four PM.\\n\",\n",
       " 'you can see on my calendar the time Spock has because time.\\n',\n",
       " \"when I do that that too thanks that happened one all my contacts on teams see my status has focused and second all the notifications are silenced for that time unless I've given someone explicit permission to be able to send me a message at the time.\\n\",\n",
       " \"with around the clock access to mobile phone it's become even more important to be able to balance work and life in the team small by lap I can easily schedule quite hours so here you'll see a block seven PM to seven AM during which time I don't get any notifications if I actually want to customise the time to a little point I can do that a very easy way as well.\\n\",\n",
       " 'during this time I can just stay focused on my personal cell being.\\n',\n",
       " 'another time saver but I use everyday is suggested replies so when someone sends you a message on his chart the application provides you logical responses.\\n',\n",
       " 'maybe a small thing but the benefit adds up over time.\\n',\n",
       " \"but I'm in the pockets mode I can use the new type after the teams to manage all my action items it brings together parts from to do and planner in one simple B..\\n\",\n",
       " 'smart bills like important.\\n',\n",
       " 'plans and assigned to me create a structured treated view of my action items so for example when I go to the important type I can select one of the action items and change the status to completed.\\n',\n",
       " \"but task after then teams is also available on your mobile phone so can manager type while you're on the go.\\n\",\n",
       " 'best is the Microsoft teams display an Ambien touch.\\n',\n",
       " \"green with a hands free experience powered by Cortana it's an all in one device so brings all your favourite teams experiences like charts meetings calling calendar files all in one single place also seamlessly connect with your PC.\\n\",\n",
       " \"since it's paired with my laptop it's a companion device so I thought about a lot my PC you'll see the Microsoft teams display also get the locked.\\n\",\n",
       " 'thank you can see that I can access my chance and notifications in a single accounts here I see my peer Lydia has sent me a message.\\n',\n",
       " 'she actually wants me to review a deck.\\n',\n",
       " \"not since it's a companion device I can actually open up the document on my PC put a richer experience.\\n\",\n",
       " 'nine meetings the pins display device works better together with your PC so you can have a distributed meetings experience across the devices you know you could be sharing content on one device and you could be following along with your participants on another device.\\n',\n",
       " \"of course I can join a meeting by pressing a button on his display but since this device actually supposed to partner I can also take hard for your actions while I'm just walking up to my device that's take a look he could sign up.\\n\",\n",
       " 'join my next meeting.\\n',\n",
       " 'joining your seven PM.\\n',\n",
       " \"now while I'm in the meeting I can also take other actions but presenting documents container.\\n\",\n",
       " 'present the quarterly review back.\\n',\n",
       " 'okay which presentation the second one.\\n',\n",
       " \"sure I'll bring up the presentation.\\n\",\n",
       " 'of course privacy is top of mind.\\n',\n",
       " 'depends display comes with physical buttons to target your camera shutter.\\n',\n",
       " \"as well as your Mike so you're always in control.\\n\",\n",
       " 'so do you have it a tonne of great teams in a weekend coming away this summer new capabilities to help you bring your team together and reduce meeting city to address some of the non meeting pain points and lastly to streamline work and save your time.\\n']"
      ]
     },
     "execution_count": 15,
     "metadata": {},
     "output_type": "execute_result"
    }
   ],
   "source": [
    "text"
   ]
  },
  {
   "cell_type": "markdown",
   "metadata": {},
   "source": [
    "# 5. Save to output file"
   ]
  },
  {
   "cell_type": "code",
   "execution_count": null,
   "metadata": {},
   "outputs": [],
   "source": [
    "with open('output.txt', 'w') as out:\n",
    "    out.writelines(text)"
   ]
  },
  {
   "cell_type": "code",
   "execution_count": null,
   "metadata": {},
   "outputs": [],
   "source": []
  },
  {
   "cell_type": "code",
   "execution_count": null,
   "metadata": {},
   "outputs": [],
   "source": []
  },
  {
   "cell_type": "code",
   "execution_count": null,
   "metadata": {},
   "outputs": [],
   "source": []
  }
 ],
 "metadata": {
  "kernelspec": {
   "display_name": "Python 3",
   "language": "python",
   "name": "python3"
  },
  "language_info": {
   "codemirror_mode": {
    "name": "ipython",
    "version": 3
   },
   "file_extension": ".py",
   "mimetype": "text/x-python",
   "name": "python",
   "nbconvert_exporter": "python",
   "pygments_lexer": "ipython3",
   "version": "3.7.4"
  }
 },
 "nbformat": 4,
 "nbformat_minor": 4
}
